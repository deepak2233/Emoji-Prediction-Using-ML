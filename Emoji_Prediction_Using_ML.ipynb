{
  "nbformat": 4,
  "nbformat_minor": 0,
  "metadata": {
    "colab": {
      "name": "Emoji Prediction Using ML.ipynb",
      "provenance": [],
      "authorship_tag": "ABX9TyP8leZV3FhyBgIu5sT3uv/l",
      "include_colab_link": true
    },
    "kernelspec": {
      "name": "python3",
      "display_name": "Python 3"
    },
    "language_info": {
      "name": "python"
    }
  },
  "cells": [
    {
      "cell_type": "markdown",
      "metadata": {
        "id": "view-in-github",
        "colab_type": "text"
      },
      "source": [
        "<a href=\"https://colab.research.google.com/github/deepak2233/Emoji-Prediction-Using-ML/blob/main/Emoji_Prediction_Using_ML.ipynb\" target=\"_parent\"><img src=\"https://colab.research.google.com/assets/colab-badge.svg\" alt=\"Open In Colab\"/></a>"
      ]
    },
    {
      "cell_type": "code",
      "metadata": {
        "colab": {
          "base_uri": "https://localhost:8080/"
        },
        "id": "SwP6Kk7vhemY",
        "outputId": "d826de3e-31e4-4984-8c39-f30a8cf6dc08"
      },
      "source": [
        "!pip install emoji"
      ],
      "execution_count": 30,
      "outputs": [
        {
          "output_type": "stream",
          "text": [
            "Requirement already satisfied: emoji in /usr/local/lib/python3.7/dist-packages (1.2.0)\n"
          ],
          "name": "stdout"
        }
      ]
    },
    {
      "cell_type": "code",
      "metadata": {
        "id": "fQBIRGjdhQbB"
      },
      "source": [
        "import numpy as np\n",
        "import pandas as pd\n",
        "import emoji\n",
        "import matplotlib.pyplot as plt\n",
        "\n",
        "%matplotlib inline"
      ],
      "execution_count": 31,
      "outputs": []
    },
    {
      "cell_type": "code",
      "metadata": {
        "id": "pfQkbPLsiCRD"
      },
      "source": [
        "train_data = pd.read_csv('/content/train_emoji.csv', header = None)\n",
        "test_data = pd.read_csv('/content/test_emoji.csv',header =None)"
      ],
      "execution_count": 32,
      "outputs": []
    },
    {
      "cell_type": "code",
      "metadata": {
        "id": "EjRx5UcQiCZQ",
        "colab": {
          "base_uri": "https://localhost:8080/",
          "height": 204
        },
        "outputId": "d051407d-99b6-4a49-898f-e27986fdb10b"
      },
      "source": [
        "train_data.head()"
      ],
      "execution_count": 33,
      "outputs": [
        {
          "output_type": "execute_result",
          "data": {
            "text/html": [
              "<div>\n",
              "<style scoped>\n",
              "    .dataframe tbody tr th:only-of-type {\n",
              "        vertical-align: middle;\n",
              "    }\n",
              "\n",
              "    .dataframe tbody tr th {\n",
              "        vertical-align: top;\n",
              "    }\n",
              "\n",
              "    .dataframe thead th {\n",
              "        text-align: right;\n",
              "    }\n",
              "</style>\n",
              "<table border=\"1\" class=\"dataframe\">\n",
              "  <thead>\n",
              "    <tr style=\"text-align: right;\">\n",
              "      <th></th>\n",
              "      <th>0</th>\n",
              "      <th>1</th>\n",
              "      <th>2</th>\n",
              "      <th>3</th>\n",
              "    </tr>\n",
              "  </thead>\n",
              "  <tbody>\n",
              "    <tr>\n",
              "      <th>0</th>\n",
              "      <td>never talk to me again</td>\n",
              "      <td>3</td>\n",
              "      <td>NaN</td>\n",
              "      <td>NaN</td>\n",
              "    </tr>\n",
              "    <tr>\n",
              "      <th>1</th>\n",
              "      <td>I am proud of your achievements</td>\n",
              "      <td>2</td>\n",
              "      <td>NaN</td>\n",
              "      <td>NaN</td>\n",
              "    </tr>\n",
              "    <tr>\n",
              "      <th>2</th>\n",
              "      <td>It is the worst day in my life</td>\n",
              "      <td>3</td>\n",
              "      <td>NaN</td>\n",
              "      <td>NaN</td>\n",
              "    </tr>\n",
              "    <tr>\n",
              "      <th>3</th>\n",
              "      <td>Miss you so much</td>\n",
              "      <td>0</td>\n",
              "      <td>NaN</td>\n",
              "      <td>[0]</td>\n",
              "    </tr>\n",
              "    <tr>\n",
              "      <th>4</th>\n",
              "      <td>food is life</td>\n",
              "      <td>4</td>\n",
              "      <td>NaN</td>\n",
              "      <td>NaN</td>\n",
              "    </tr>\n",
              "  </tbody>\n",
              "</table>\n",
              "</div>"
            ],
            "text/plain": [
              "                                 0  1   2     3\n",
              "0           never talk to me again  3 NaN   NaN\n",
              "1  I am proud of your achievements  2 NaN   NaN\n",
              "2   It is the worst day in my life  3 NaN   NaN\n",
              "3                 Miss you so much  0 NaN   [0]\n",
              "4                     food is life  4 NaN   NaN"
            ]
          },
          "metadata": {
            "tags": []
          },
          "execution_count": 33
        }
      ]
    },
    {
      "cell_type": "code",
      "metadata": {
        "id": "q_Llw3qWiCbt"
      },
      "source": [
        "import emoji as emoji"
      ],
      "execution_count": 34,
      "outputs": []
    },
    {
      "cell_type": "code",
      "metadata": {
        "id": "nPiSIqAWiCfE"
      },
      "source": [
        "\n",
        "emoji_dictionary = {\"0\": \"\\u2764\\uFE0F\",    # :heart: prints a black instead of red heart depending on the font\n",
        "                    \"1\": \":baseball:\",\n",
        "                    \"2\": \":beaming_face_with_smiling_eyes:\",\n",
        "                    \"3\": \":downcast_face_with_sweat:\",\n",
        "                    \"4\": \":fork_and_knife:\",\n",
        "                   }"
      ],
      "execution_count": 35,
      "outputs": []
    },
    {
      "cell_type": "code",
      "metadata": {
        "id": "WFBzY4_NiCh1",
        "colab": {
          "base_uri": "https://localhost:8080/",
          "height": 35
        },
        "outputId": "fb918bc3-e96f-4bf4-cfaa-b512bb176ae4"
      },
      "source": [
        "emoji.emojize(\":fork_and_knife:\")\n"
      ],
      "execution_count": 36,
      "outputs": [
        {
          "output_type": "execute_result",
          "data": {
            "application/vnd.google.colaboratory.intrinsic+json": {
              "type": "string"
            },
            "text/plain": [
              "'🍴'"
            ]
          },
          "metadata": {
            "tags": []
          },
          "execution_count": 36
        }
      ]
    },
    {
      "cell_type": "code",
      "metadata": {
        "id": "k1vT1uCDiCku",
        "colab": {
          "base_uri": "https://localhost:8080/",
          "height": 35
        },
        "outputId": "58d9f41a-faff-40e2-ab80-0103e2c09b18"
      },
      "source": [
        "emoji.emojize(\":baseball:\")\n"
      ],
      "execution_count": 37,
      "outputs": [
        {
          "output_type": "execute_result",
          "data": {
            "application/vnd.google.colaboratory.intrinsic+json": {
              "type": "string"
            },
            "text/plain": [
              "'⚾'"
            ]
          },
          "metadata": {
            "tags": []
          },
          "execution_count": 37
        }
      ]
    },
    {
      "cell_type": "code",
      "metadata": {
        "id": "XpRNZnMuiCnj",
        "colab": {
          "base_uri": "https://localhost:8080/"
        },
        "outputId": "c11d395e-0329-4b5e-d0e0-c988b46b34f7"
      },
      "source": [
        "for e in emoji_dictionary.values():\n",
        "    print(emoji.emojize(e))"
      ],
      "execution_count": 38,
      "outputs": [
        {
          "output_type": "stream",
          "text": [
            "❤️\n",
            "⚾\n",
            "😁\n",
            "😓\n",
            "🍴\n"
          ],
          "name": "stdout"
        }
      ]
    },
    {
      "cell_type": "code",
      "metadata": {
        "id": "gwNDkmVHiCtX",
        "colab": {
          "base_uri": "https://localhost:8080/"
        },
        "outputId": "bc5cac3f-a0f6-48e8-b9e0-92384290fd42"
      },
      "source": [
        "data = train_data.values\n",
        "for i in range(10):\n",
        "    print(data[i][0],\"-----\", emoji.emojize(emoji_dictionary[str(data[i][1])]))"
      ],
      "execution_count": 39,
      "outputs": [
        {
          "output_type": "stream",
          "text": [
            "never talk to me again ----- 😓\n",
            "I am proud of your achievements ----- 😁\n",
            "It is the worst day in my life ----- 😓\n",
            "Miss you so much ----- ❤️\n",
            "food is life ----- 🍴\n",
            "I love you mum ----- ❤️\n",
            "Stop saying bullshit ----- 😓\n",
            "congratulations on your acceptance ----- 😁\n",
            "The assignment is too long  ----- 😓\n",
            "I want to go play ----- ⚾\n"
          ],
          "name": "stdout"
        }
      ]
    },
    {
      "cell_type": "code",
      "metadata": {
        "id": "ZvQTJorpbDym"
      },
      "source": [
        "from keras.utils import to_categorical"
      ],
      "execution_count": 40,
      "outputs": []
    },
    {
      "cell_type": "code",
      "metadata": {
        "colab": {
          "base_uri": "https://localhost:8080/"
        },
        "id": "pTctuO6FPJA6",
        "outputId": "a171fd5b-6970-49b9-c633-1d3aee911fd6"
      },
      "source": [
        "XT = train_data[0]\n",
        "Xt = test_data[0]\n",
        "\n",
        "YT = to_categorical(train_data[1])\n",
        "Yt = to_categorical(test_data[1])\n",
        "\n",
        "\n",
        "print(XT.shape)\n",
        "print(Xt.shape)\n",
        "print(YT.shape)\n",
        "print(Yt.shape)"
      ],
      "execution_count": 41,
      "outputs": [
        {
          "output_type": "stream",
          "text": [
            "(132,)\n",
            "(56,)\n",
            "(132, 5)\n",
            "(56, 5)\n"
          ],
          "name": "stdout"
        }
      ]
    },
    {
      "cell_type": "code",
      "metadata": {
        "id": "gFG40YxFPJG0"
      },
      "source": [
        "embeddings = {}\n",
        "with open('/content/glove.6B.50d.txt',encoding='utf-8') as f:\n",
        "    for line in f:\n",
        "        values = line.split()\n",
        "        word = values[0]\n",
        "        coeffs = np.asarray(values[1:],dtype='float32')\n",
        "        \n",
        "        #print(word)\n",
        "        #print(coeffs)\n",
        "        embeddings[word] = coeffs"
      ],
      "execution_count": 42,
      "outputs": []
    },
    {
      "cell_type": "code",
      "metadata": {
        "id": "HsUoDxXnPJJ1"
      },
      "source": [
        "def getOutputEmbeddings(X):\n",
        "    \n",
        "    embedding_matrix_output = np.zeros((X.shape[0],10,50))\n",
        "    for ix in range(X.shape[0]):\n",
        "        X[ix] = X[ix].split()\n",
        "        for jx in range(len(X[ix])):\n",
        "            embedding_matrix_output[ix][jx] = embeddings[X[ix][jx].lower()]\n",
        "            \n",
        "    return embedding_matrix_output"
      ],
      "execution_count": 43,
      "outputs": []
    },
    {
      "cell_type": "code",
      "metadata": {
        "id": "Vye1JecGPJMH",
        "colab": {
          "base_uri": "https://localhost:8080/"
        },
        "outputId": "dcd1e55b-10e8-4a76-e3d0-7aa940cd5091"
      },
      "source": [
        "emb_XT = getOutputEmbeddings(XT)\n",
        "emb_Xt = getOutputEmbeddings(Xt)"
      ],
      "execution_count": 44,
      "outputs": [
        {
          "output_type": "stream",
          "text": [
            "/usr/local/lib/python3.7/dist-packages/ipykernel_launcher.py:5: SettingWithCopyWarning: \n",
            "A value is trying to be set on a copy of a slice from a DataFrame\n",
            "\n",
            "See the caveats in the documentation: https://pandas.pydata.org/pandas-docs/stable/user_guide/indexing.html#returning-a-view-versus-a-copy\n",
            "  \"\"\"\n"
          ],
          "name": "stderr"
        }
      ]
    },
    {
      "cell_type": "code",
      "metadata": {
        "id": "dB4Vc2bNPJO3",
        "colab": {
          "base_uri": "https://localhost:8080/"
        },
        "outputId": "92b98b2f-73bb-4c48-ee04-a8ef5e580f9d"
      },
      "source": [
        "print(emb_XT.shape)\n",
        "print(emb_Xt.shape)"
      ],
      "execution_count": 45,
      "outputs": [
        {
          "output_type": "stream",
          "text": [
            "(132, 10, 50)\n",
            "(56, 10, 50)\n"
          ],
          "name": "stdout"
        }
      ]
    },
    {
      "cell_type": "code",
      "metadata": {
        "id": "A4PYKiknPJRQ"
      },
      "source": [
        "from keras.layers import *\n",
        "from keras.models import Sequential"
      ],
      "execution_count": 46,
      "outputs": []
    },
    {
      "cell_type": "code",
      "metadata": {
        "id": "UgUS-GpcPT-4",
        "colab": {
          "base_uri": "https://localhost:8080/"
        },
        "outputId": "62fbce42-2b5f-41ad-a87e-0e3056031497"
      },
      "source": [
        "model = Sequential()\n",
        "model.add(LSTM(64,input_shape=(10,50),return_sequences=True))\n",
        "model.add(Dropout(0.4))\n",
        "model.add(LSTM(64,input_shape=(10,50)))\n",
        "model.add(Dropout(0.3))\n",
        "model.add(Dense(5))\n",
        "model.add(Activation('softmax'))\n",
        "model.summary()"
      ],
      "execution_count": 47,
      "outputs": [
        {
          "output_type": "stream",
          "text": [
            "Model: \"sequential_1\"\n",
            "_________________________________________________________________\n",
            "Layer (type)                 Output Shape              Param #   \n",
            "=================================================================\n",
            "lstm_2 (LSTM)                (None, 10, 64)            29440     \n",
            "_________________________________________________________________\n",
            "dropout_2 (Dropout)          (None, 10, 64)            0         \n",
            "_________________________________________________________________\n",
            "lstm_3 (LSTM)                (None, 64)                33024     \n",
            "_________________________________________________________________\n",
            "dropout_3 (Dropout)          (None, 64)                0         \n",
            "_________________________________________________________________\n",
            "dense_1 (Dense)              (None, 5)                 325       \n",
            "_________________________________________________________________\n",
            "activation_1 (Activation)    (None, 5)                 0         \n",
            "=================================================================\n",
            "Total params: 62,789\n",
            "Trainable params: 62,789\n",
            "Non-trainable params: 0\n",
            "_________________________________________________________________\n"
          ],
          "name": "stdout"
        }
      ]
    },
    {
      "cell_type": "code",
      "metadata": {
        "id": "OXiS-1DyPUB2",
        "colab": {
          "base_uri": "https://localhost:8080/"
        },
        "outputId": "ecc9bac0-8600-4163-918b-f210052df1e7"
      },
      "source": [
        "model.compile(optimizer='adam',loss='categorical_crossentropy',metrics=['acc'])\n",
        "model.fit(emb_XT,YT,batch_size=32,epochs=40,shuffle=True,validation_split=0.1)"
      ],
      "execution_count": 48,
      "outputs": [
        {
          "output_type": "stream",
          "text": [
            "Epoch 1/40\n",
            "4/4 [==============================] - 4s 283ms/step - loss: 1.6164 - acc: 0.2006 - val_loss: 1.6184 - val_acc: 0.0714\n",
            "Epoch 2/40\n",
            "4/4 [==============================] - 0s 23ms/step - loss: 1.5384 - acc: 0.4028 - val_loss: 1.6400 - val_acc: 0.0714\n",
            "Epoch 3/40\n",
            "4/4 [==============================] - 0s 23ms/step - loss: 1.5060 - acc: 0.3848 - val_loss: 1.6478 - val_acc: 0.3571\n",
            "Epoch 4/40\n",
            "4/4 [==============================] - 0s 24ms/step - loss: 1.4531 - acc: 0.4080 - val_loss: 1.6370 - val_acc: 0.3571\n",
            "Epoch 5/40\n",
            "4/4 [==============================] - 0s 23ms/step - loss: 1.4237 - acc: 0.4638 - val_loss: 1.5961 - val_acc: 0.2857\n",
            "Epoch 6/40\n",
            "4/4 [==============================] - 0s 22ms/step - loss: 1.3653 - acc: 0.4481 - val_loss: 1.5392 - val_acc: 0.1429\n",
            "Epoch 7/40\n",
            "4/4 [==============================] - 0s 21ms/step - loss: 1.3092 - acc: 0.4573 - val_loss: 1.4548 - val_acc: 0.2143\n",
            "Epoch 8/40\n",
            "4/4 [==============================] - 0s 22ms/step - loss: 1.2355 - acc: 0.5159 - val_loss: 1.3679 - val_acc: 0.3571\n",
            "Epoch 9/40\n",
            "4/4 [==============================] - 0s 22ms/step - loss: 1.1326 - acc: 0.5943 - val_loss: 1.3252 - val_acc: 0.3571\n",
            "Epoch 10/40\n",
            "4/4 [==============================] - 0s 25ms/step - loss: 1.0385 - acc: 0.6379 - val_loss: 1.1405 - val_acc: 0.6429\n",
            "Epoch 11/40\n",
            "4/4 [==============================] - 0s 24ms/step - loss: 0.9575 - acc: 0.6431 - val_loss: 1.1892 - val_acc: 0.5000\n",
            "Epoch 12/40\n",
            "4/4 [==============================] - 0s 23ms/step - loss: 0.7848 - acc: 0.7387 - val_loss: 1.1555 - val_acc: 0.5000\n",
            "Epoch 13/40\n",
            "4/4 [==============================] - 0s 23ms/step - loss: 0.7652 - acc: 0.7353 - val_loss: 0.9031 - val_acc: 0.7143\n",
            "Epoch 14/40\n",
            "4/4 [==============================] - 0s 23ms/step - loss: 0.7007 - acc: 0.7866 - val_loss: 1.1185 - val_acc: 0.6429\n",
            "Epoch 15/40\n",
            "4/4 [==============================] - 0s 22ms/step - loss: 0.5815 - acc: 0.7705 - val_loss: 0.9632 - val_acc: 0.6429\n",
            "Epoch 16/40\n",
            "4/4 [==============================] - 0s 24ms/step - loss: 0.5269 - acc: 0.8273 - val_loss: 0.8087 - val_acc: 0.6429\n",
            "Epoch 17/40\n",
            "4/4 [==============================] - 0s 23ms/step - loss: 0.3984 - acc: 0.8768 - val_loss: 0.9297 - val_acc: 0.6429\n",
            "Epoch 18/40\n",
            "4/4 [==============================] - 0s 23ms/step - loss: 0.3587 - acc: 0.9052 - val_loss: 0.8189 - val_acc: 0.6429\n",
            "Epoch 19/40\n",
            "4/4 [==============================] - 0s 22ms/step - loss: 0.2916 - acc: 0.9385 - val_loss: 0.6505 - val_acc: 0.7857\n",
            "Epoch 20/40\n",
            "4/4 [==============================] - 0s 23ms/step - loss: 0.2389 - acc: 0.9382 - val_loss: 0.9020 - val_acc: 0.6429\n",
            "Epoch 21/40\n",
            "4/4 [==============================] - 0s 23ms/step - loss: 0.3863 - acc: 0.8713 - val_loss: 0.7468 - val_acc: 0.7857\n",
            "Epoch 22/40\n",
            "4/4 [==============================] - 0s 22ms/step - loss: 0.2081 - acc: 0.9278 - val_loss: 0.8446 - val_acc: 0.7143\n",
            "Epoch 23/40\n",
            "4/4 [==============================] - 0s 22ms/step - loss: 0.2226 - acc: 0.9640 - val_loss: 0.6574 - val_acc: 0.7857\n",
            "Epoch 24/40\n",
            "4/4 [==============================] - 0s 22ms/step - loss: 0.2171 - acc: 0.9554 - val_loss: 0.6620 - val_acc: 0.7143\n",
            "Epoch 25/40\n",
            "4/4 [==============================] - 0s 25ms/step - loss: 0.1823 - acc: 0.9346 - val_loss: 0.9842 - val_acc: 0.5714\n",
            "Epoch 26/40\n",
            "4/4 [==============================] - 0s 27ms/step - loss: 0.2042 - acc: 0.9294 - val_loss: 0.8900 - val_acc: 0.7857\n",
            "Epoch 27/40\n",
            "4/4 [==============================] - 0s 34ms/step - loss: 0.1442 - acc: 0.9531 - val_loss: 0.9681 - val_acc: 0.5714\n",
            "Epoch 28/40\n",
            "4/4 [==============================] - 0s 26ms/step - loss: 0.1073 - acc: 0.9635 - val_loss: 0.7490 - val_acc: 0.7143\n",
            "Epoch 29/40\n",
            "4/4 [==============================] - 0s 25ms/step - loss: 0.1029 - acc: 0.9880 - val_loss: 0.9870 - val_acc: 0.6429\n",
            "Epoch 30/40\n",
            "4/4 [==============================] - 0s 25ms/step - loss: 0.1210 - acc: 0.9508 - val_loss: 0.8797 - val_acc: 0.7857\n",
            "Epoch 31/40\n",
            "4/4 [==============================] - 0s 26ms/step - loss: 0.0755 - acc: 0.9852 - val_loss: 0.8823 - val_acc: 0.6429\n",
            "Epoch 32/40\n",
            "4/4 [==============================] - 0s 22ms/step - loss: 0.0637 - acc: 0.9914 - val_loss: 0.6902 - val_acc: 0.7857\n",
            "Epoch 33/40\n",
            "4/4 [==============================] - 0s 23ms/step - loss: 0.0483 - acc: 1.0000 - val_loss: 0.9122 - val_acc: 0.7143\n",
            "Epoch 34/40\n",
            "4/4 [==============================] - 0s 22ms/step - loss: 0.0487 - acc: 0.9859 - val_loss: 0.8987 - val_acc: 0.7857\n",
            "Epoch 35/40\n",
            "4/4 [==============================] - 0s 23ms/step - loss: 0.0706 - acc: 0.9763 - val_loss: 0.8311 - val_acc: 0.7143\n",
            "Epoch 36/40\n",
            "4/4 [==============================] - 0s 23ms/step - loss: 0.0404 - acc: 1.0000 - val_loss: 0.9967 - val_acc: 0.5714\n",
            "Epoch 37/40\n",
            "4/4 [==============================] - 0s 22ms/step - loss: 0.0305 - acc: 1.0000 - val_loss: 0.7291 - val_acc: 0.7143\n",
            "Epoch 38/40\n",
            "4/4 [==============================] - 0s 26ms/step - loss: 0.0639 - acc: 0.9852 - val_loss: 0.6949 - val_acc: 0.7143\n",
            "Epoch 39/40\n",
            "4/4 [==============================] - 0s 22ms/step - loss: 0.0554 - acc: 0.9891 - val_loss: 1.0694 - val_acc: 0.7143\n",
            "Epoch 40/40\n",
            "4/4 [==============================] - 0s 24ms/step - loss: 0.0664 - acc: 0.9802 - val_loss: 0.9429 - val_acc: 0.7143\n"
          ],
          "name": "stdout"
        },
        {
          "output_type": "execute_result",
          "data": {
            "text/plain": [
              "<tensorflow.python.keras.callbacks.History at 0x7f4cfa846750>"
            ]
          },
          "metadata": {
            "tags": []
          },
          "execution_count": 48
        }
      ]
    },
    {
      "cell_type": "code",
      "metadata": {
        "id": "vDMtcHSaPJTu",
        "colab": {
          "base_uri": "https://localhost:8080/"
        },
        "outputId": "cbad5491-ab9f-4fb2-ce6b-2cc8356e330f"
      },
      "source": [
        "model.evaluate(emb_Xt,Yt)"
      ],
      "execution_count": 49,
      "outputs": [
        {
          "output_type": "stream",
          "text": [
            "2/2 [==============================] - 0s 8ms/step - loss: 1.8058 - acc: 0.6429\n"
          ],
          "name": "stdout"
        },
        {
          "output_type": "execute_result",
          "data": {
            "text/plain": [
              "[1.8058332204818726, 0.6428571343421936]"
            ]
          },
          "metadata": {
            "tags": []
          },
          "execution_count": 49
        }
      ]
    },
    {
      "cell_type": "code",
      "metadata": {
        "id": "lWhClJv_PJWx",
        "colab": {
          "base_uri": "https://localhost:8080/"
        },
        "outputId": "6e307ca1-e31f-41a9-d8a1-a8e1f2c91dfd"
      },
      "source": [
        "pred = model.predict_classes(emb_Xt)"
      ],
      "execution_count": 50,
      "outputs": [
        {
          "output_type": "stream",
          "text": [
            "/usr/local/lib/python3.7/dist-packages/tensorflow/python/keras/engine/sequential.py:450: UserWarning: `model.predict_classes()` is deprecated and will be removed after 2021-01-01. Please use instead:* `np.argmax(model.predict(x), axis=-1)`,   if your model does multi-class classification   (e.g. if it uses a `softmax` last-layer activation).* `(model.predict(x) > 0.5).astype(\"int32\")`,   if your model does binary classification   (e.g. if it uses a `sigmoid` last-layer activation).\n",
            "  warnings.warn('`model.predict_classes()` is deprecated and '\n"
          ],
          "name": "stderr"
        }
      ]
    },
    {
      "cell_type": "code",
      "metadata": {
        "id": "rJn05I39PJZ2",
        "colab": {
          "base_uri": "https://localhost:8080/"
        },
        "outputId": "e19952e0-403f-4a46-aac4-ee1a1401ab56"
      },
      "source": [
        "for i in range(30):\n",
        "    print(' '.join(Xt[i]))\n",
        "    print(emoji.emojize(emoji_dictionary[str(np.argmax(Yt[i]))]))\n",
        "    print(emoji.emojize(emoji_dictionary[str(pred[i])]))"
      ],
      "execution_count": 51,
      "outputs": [
        {
          "output_type": "stream",
          "text": [
            "I want to eat\n",
            "🍴\n",
            "🍴\n",
            "he did not answer\n",
            "😓\n",
            "😓\n",
            "he got a raise\n",
            "😁\n",
            "😓\n",
            "she got me a present\n",
            "❤️\n",
            "❤️\n",
            "ha ha ha it was so funny\n",
            "😁\n",
            "😁\n",
            "he is a good friend\n",
            "❤️\n",
            "😁\n",
            "I am upset\n",
            "❤️\n",
            "😓\n",
            "We had such a lovely dinner tonight\n",
            "❤️\n",
            "😁\n",
            "where is the food\n",
            "🍴\n",
            "🍴\n",
            "Stop making this joke ha ha ha\n",
            "😁\n",
            "😁\n",
            "where is the ball\n",
            "⚾\n",
            "⚾\n",
            "work is hard\n",
            "😓\n",
            "😓\n",
            "This girl is messing with me\n",
            "😓\n",
            "❤️\n",
            "are you serious ha ha\n",
            "😁\n",
            "😓\n",
            "Let us go play baseball\n",
            "⚾\n",
            "⚾\n",
            "This stupid grader is not working\n",
            "😓\n",
            "😓\n",
            "work is horrible\n",
            "😓\n",
            "😓\n",
            "Congratulation for having a baby\n",
            "😁\n",
            "😁\n",
            "stop messing around\n",
            "😓\n",
            "😓\n",
            "any suggestions for dinner\n",
            "🍴\n",
            "😁\n",
            "I love taking breaks\n",
            "❤️\n",
            "❤️\n",
            "you brighten my day\n",
            "😁\n",
            "❤️\n",
            "I boiled rice\n",
            "🍴\n",
            "🍴\n",
            "she is a bully\n",
            "😓\n",
            "😓\n",
            "Why are you feeling bad\n",
            "😓\n",
            "😓\n",
            "I am upset\n",
            "😓\n",
            "😓\n",
            "I worked during my birthday\n",
            "😓\n",
            "😁\n",
            "My grandmother is the love of my life\n",
            "❤️\n",
            "❤️\n",
            "enjoy your break\n",
            "😁\n",
            "⚾\n",
            "valentine day is near\n",
            "❤️\n",
            "😁\n"
          ],
          "name": "stdout"
        }
      ]
    },
    {
      "cell_type": "code",
      "metadata": {
        "id": "WyUdOr6yQWx8"
      },
      "source": [
        ""
      ],
      "execution_count": null,
      "outputs": []
    }
  ]
}